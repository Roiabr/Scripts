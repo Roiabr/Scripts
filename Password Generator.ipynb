{
 "cells": [
  {
   "cell_type": "code",
   "execution_count": 11,
   "metadata": {},
   "outputs": [
    {
     "name": "stdout",
     "output_type": "stream",
     "text": [
      "0%92Fg)5MA*JHj8\n"
     ]
    }
   ],
   "source": [
    "import random\n",
    "\n",
    "numbers = ['0', '1', '2', '3', '4', '5', '6', '7', '8', '9']   \n",
    "lowcase_letter = ['a', 'b', 'c', 'd', 'e', 'f', 'g', 'h',  \n",
    "                     'i', 'j', 'k', 'm', 'n', 'o', 'p', 'q', \n",
    "                     'r', 's', 't', 'u', 'v', 'w', 'x', 'y', \n",
    "                     'z'] \n",
    "  \n",
    "upcase_letter = ['A', 'B', 'C', 'D', 'E', 'F', 'G', 'H',  \n",
    "                     'I', 'J', 'K', 'M', 'N', 'O', 'p', 'Q', \n",
    "                     'R', 'S', 'T', 'U', 'V', 'W', 'X', 'Y', \n",
    "                     'Z'] \n",
    "  \n",
    "symbols = ['@', '#', '$', '%', '=', ':', '?', '.', '/', '|', '~', '>',  \n",
    "           '*', '(', ')' ,'!' , '& ' ]\n",
    "COMBINED_LIST = numbers + lowcase_letter + upcase_letter + symbols\n",
    "           \n",
    "           \n",
    "\n",
    "passLen = 15  # actual generated password length will be this length + 1\n",
    "myPass = ''\n",
    "temp_pass = ''\n",
    "for i in range(passLen):\n",
    "    temp_pass = temp_pass + random.choice(COMBINED_LIST)\n",
    "    \n",
    "\n",
    "for x in temp_pass: \n",
    "        myPass = myPass + x \n",
    "    \n",
    "\n",
    "print(myPass)"
   ]
  },
  {
   "cell_type": "code",
   "execution_count": null,
   "metadata": {},
   "outputs": [],
   "source": []
  },
  {
   "cell_type": "code",
   "execution_count": null,
   "metadata": {},
   "outputs": [],
   "source": []
  }
 ],
 "metadata": {
  "kernelspec": {
   "display_name": "Python 3",
   "language": "python",
   "name": "python3"
  },
  "language_info": {
   "codemirror_mode": {
    "name": "ipython",
    "version": 3
   },
   "file_extension": ".py",
   "mimetype": "text/x-python",
   "name": "python",
   "nbconvert_exporter": "python",
   "pygments_lexer": "ipython3",
   "version": "3.7.4"
  }
 },
 "nbformat": 4,
 "nbformat_minor": 4
}
