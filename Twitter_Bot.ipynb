{
 "cells": [
  {
   "cell_type": "code",
   "execution_count": 51,
   "metadata": {},
   "outputs": [],
   "source": [
    "from selenium import webdriver\n",
    "from selenium.webdriver.common.keys import Keys\n",
    "import time\n",
    "\n",
    "class TwitterBot:\n",
    "    def __init__(self,username,password):\n",
    "        self.username = username\n",
    "        self.password = password\n",
    "        self.bot = webdriver.Chrome()\n",
    "    \n",
    "    def login(self):\n",
    "        bot = self.bot\n",
    "        bot.get('https://twitter.com/login')\n",
    "        time.sleep(3)\n",
    "        email = bot.find_element_by_name('session[username_or_email]')\n",
    "        password = bot.find_element_by_name('session[password]')\n",
    "        email.clear()\n",
    "        password.clear()\n",
    "        email.send_keys(self.username)\n",
    "        password.send_keys(self.password)\n",
    "        bot.find_element_by_class_name('css-1dbjc4n').click()\n",
    "        time.sleep(3)\n",
    "    \n",
    "    def like_tweet(self,hashtag):\n",
    "        bot = self.bot\n",
    "        bot.get('https://twitter.com/search?q=' + hashtag +'&src=typed_query')\n",
    "        time.sleep(3)\n",
    "        for i in range(1,3):\n",
    "            bot.execute_script('window.scrollTo(0,document.body.scrollHeight)')\n",
    "            time.sleep(2)\n",
    "            tweetLinks = [i.get_attribute('href')\n",
    "            for i in bot.find_elements_by_xpath(\"//a[@dir='auto']\")]\n",
    "            filteredLinks = list(filter(lambda x: 'status' in x,tweetLinks))\n",
    "            for link in filteredLinks:\n",
    "                bot.get(link)\n",
    "                try:\n",
    "                    bot.find_element_by_class_name('HeartAnimation').click()\n",
    "                    time.sleep(6)\n",
    "                except Exception as ex:\n",
    "                    time.sleep(60)\n",
    "\n",
    "        \n",
    "run = TwitterBot('','') \n",
    "run.login()\n",
    "run.like_tweet('')\n",
    "\n",
    "\n"
   ]
  },
  {
   "cell_type": "code",
   "execution_count": null,
   "metadata": {},
   "outputs": [],
   "source": []
  },
  {
   "cell_type": "code",
   "execution_count": null,
   "metadata": {},
   "outputs": [],
   "source": []
  }
 ],
 "metadata": {
  "kernelspec": {
   "display_name": "Python 3",
   "language": "python",
   "name": "python3"
  },
  "language_info": {
   "codemirror_mode": {
    "name": "ipython",
    "version": 3
   },
   "file_extension": ".py",
   "mimetype": "text/x-python",
   "name": "python",
   "nbconvert_exporter": "python",
   "pygments_lexer": "ipython3",
   "version": "3.7.4"
  }
 },
 "nbformat": 4,
 "nbformat_minor": 4
}
