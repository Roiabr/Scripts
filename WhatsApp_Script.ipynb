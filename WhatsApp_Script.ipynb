{

   "source": [
    "# Import required packages\n",
    "from selenium import webdriver\n",
    "\n",
    "# Driver to open a browser\n",
    "driver = webdriver.Chrome()\n",
    "\n",
    "#link to open a site\n",
    "driver.get(\"https://web.whatsapp.com/\")\n",
    "\n",
    "name = input(\"please enter the name: \")\n",
    "\n",
    "msg = input(\"please enter the massage: \")\n",
    "\n",
    "count = int(input(\"Please enter the count: \"))\n",
    "\n",
    "\n",
    "input(\"Scan the QR code and then press Enter\")\n",
    " \n",
    "user = driver.find_element_by_xpath('//span[@title = \"{}\" ]'.format(name))\n",
    "user.click()\n",
    "\n",
    "msg_box = driver.find_element_by_xpath(\"//*[@id='main']/footer/div[1]/div[2]/div/div[2]\")\n",
    "\n",
    "for i in range(count):\n",
    "    msg_box.send_keys(msg)\n",
    "    driver.find_element_by_xpath(\"//*[@id='main']/footer/div[1]/div[3]/button\").click()\n"
   ]
  },
  {
   "cell_type": "code",
   "execution_count": null,
   "metadata": {},
   "outputs": [],
   "source": []
  },
  {
   "cell_type": "code",
   "execution_count": null,
   "metadata": {},
   "outputs": [],
   "source": []
  }
 ],
 "metadata": {
  "kernelspec": {
   "display_name": "Python 3",
   "language": "python",
   "name": "python3"
  },
  "language_info": {
   "codemirror_mode": {
    "name": "ipython",
    "version": 3
   },
   "file_extension": ".py",
   "mimetype": "text/x-python",
   "name": "python",
   "nbconvert_exporter": "python",
   "pygments_lexer": "ipython3",
   "version": "3.7.4"
  }
 },
 "nbformat": 4,
 "nbformat_minor": 4
}
